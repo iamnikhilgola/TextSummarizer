{
 "cells": [
  {
   "cell_type": "code",
   "execution_count": 159,
   "metadata": {},
   "outputs": [],
   "source": [
    "import numpy as np  \n",
    "import matplotlib.pyplot as plt  \n",
    "import pickle\n",
    "from nltk.stem import WordNetLemmatizer"
   ]
  },
  {
   "cell_type": "code",
   "execution_count": 160,
   "metadata": {},
   "outputs": [],
   "source": [
    "import nltk\n",
    "from collections import Counter\n",
    "import numpy as np"
   ]
  },
  {
   "cell_type": "code",
   "execution_count": 161,
   "metadata": {},
   "outputs": [],
   "source": [
    "import os\n",
    "import re\n",
    "import copy\n",
    "import time"
   ]
  },
  {
   "cell_type": "code",
   "execution_count": 162,
   "metadata": {},
   "outputs": [],
   "source": [
    "def loadWordDictionaryPickle():\n",
    "    f=open('word_Dictionary.pickle','rb')\n",
    "    vocab=pickle.load(f)\n",
    "    f.close()\n",
    "    return vocab\n",
    "vocab = loadWordDictionaryPickle()\n",
    "Support_Score={}\n"
   ]
  },
  {
   "cell_type": "code",
   "execution_count": 163,
   "metadata": {},
   "outputs": [],
   "source": [
    "def loadWordFrequencyPickle():\n",
    "    f1=open('word_Frequency.pickle','rb')\n",
    "    DocVocab=pickle.load(f1)\n",
    "    #print(DocVocab['Facebook'])\n",
    "    f1.close()\n",
    "    return DocVocab\n",
    "DocVocab = loadWordFrequencyPickle()\n"
   ]
  },
  {
   "cell_type": "code",
   "execution_count": null,
   "metadata": {},
   "outputs": [],
   "source": []
  },
  {
   "cell_type": "code",
   "execution_count": 164,
   "metadata": {},
   "outputs": [],
   "source": [
    "def uniqueWordFrequency(DocVocab):\n",
    "    Word_Set_frequency={}\n",
    "    wordSetSupport = {}\n",
    "    tfidf_dict={}\n",
    "    maxDoc=len(DocVocab.keys())\n",
    "    print(maxDoc)\n",
    "    for key in DocVocab.keys():\n",
    "        for word in DocVocab[key]:\n",
    "            if Word_Set_frequency.get(word) ==None:\n",
    "                Word_Set_frequency[word]=DocVocab[key][word]\n",
    "                if DocVocab[key][word]==0:\n",
    "                    wordSetSupport[word]=0.0\n",
    "                else:\n",
    "                    wordSetSupport[word]=1.0\n",
    "            else:\n",
    "                if DocVocab[key][word]==0:\n",
    "                    wordSetSupport[word]+=0.0\n",
    "                else:\n",
    "                    wordSetSupport[word]+=1.0\n",
    "                Word_Set_frequency[word]+=DocVocab[key][word]\n",
    "    #print(wordSetSupport['combine'])\n",
    "    total1_sum=np.sum([Word_Set_frequency[key] for key in Word_Set_frequency.keys()])\n",
    "    for key in wordSetSupport.keys():\n",
    "            wordSetSupport[key]=wordSetSupport[key]/maxDoc\n",
    "            tfidf_dict[key]=wordSetSupport[key]*(Word_Set_frequency[key]/(1.0*total1_sum))\n",
    "    return Word_Set_frequency,wordSetSupport,tfidf_dict\n",
    "        "
   ]
  },
  {
   "cell_type": "code",
   "execution_count": 165,
   "metadata": {},
   "outputs": [
    {
     "name": "stdout",
     "output_type": "stream",
     "text": [
      "173\n"
     ]
    }
   ],
   "source": [
    "\n",
    "Word_Set_frequency,wordSetSupport,tfidf_dict=uniqueWordFrequency(DocVocab)\n",
    "mean1=np.mean([Word_Set_frequency[key]  for key in Word_Set_frequency.keys()])\n",
    "\n",
    "#print([Word_Set_frequency[key]  for key in Word_Set_frequency.keys()])\n",
    "\n",
    "#print(mean1)\n",
    "#median1=np.median([Word_Set_frequency[key]  for key in Word_Set_frequency.keys()])\n",
    "#print(median1)\n",
    "#threshold=np.array([Word_Set_frequency[key]  for key in Word_Set_frequency.keys()])\n",
    "#threshold1=np.reshape(len(threshold),1)\n",
    "#kmeans = KMeans(n_clusters=4, random_state=0).fit(threshold1)\n",
    "#print(kmeans)\n",
    "def filterWordSetFrequencySupport(mean1,Word_Set_frequency,wordSetSupport):\n",
    "    req_Dic={}\n",
    "    req_Dic_Sup={}\n",
    "    for key in Word_Set_frequency.keys():\n",
    "        if Word_Set_frequency[key]>mean1:\n",
    "            req_Dic[key]=Word_Set_frequency[key]\n",
    "    for key in req_Dic.keys():\n",
    "        req_Dic_Sup[key]=wordSetSupport[key]\n",
    "    return req_Dic,req_Dic_Sup\n",
    "\n",
    "req_Dic,req_Dic_Sup = filterWordSetFrequencySupport(mean1,Word_Set_frequency,wordSetSupport)"
   ]
  },
  {
   "cell_type": "code",
   "execution_count": 166,
   "metadata": {},
   "outputs": [
    {
     "data": {
      "text/plain": [
       "\"fp = open('TFIDF_values.pickle','rb')\\ntfidf_values={}\\ntfidf = pickle.load(fp)\\n#print(tfidf['Google'])\\nfor key in tfidf.keys():\\n    for wordkey in tfidf[key].keys():\\n        if tfidf_values.get(wordkey)==None:\\n            tfidf_values[wordkey]=tfidf[key][wordkey]\\n        else:\\n            tfidf_values[wordkey]+=tfidf[key][wordkey]\\nfor key in tfidf_values.keys():\\n    tfidf_values[key] = tfidf_values[key]/len(tfidf.keys())\\n#print(tfidf_values[''])\\n\""
      ]
     },
     "execution_count": 166,
     "metadata": {},
     "output_type": "execute_result"
    }
   ],
   "source": [
    "'''fp = open('TFIDF_values.pickle','rb')\n",
    "tfidf_values={}\n",
    "tfidf = pickle.load(fp)\n",
    "#print(tfidf['Google'])\n",
    "for key in tfidf.keys():\n",
    "    for wordkey in tfidf[key].keys():\n",
    "        if tfidf_values.get(wordkey)==None:\n",
    "            tfidf_values[wordkey]=tfidf[key][wordkey]\n",
    "        else:\n",
    "            tfidf_values[wordkey]+=tfidf[key][wordkey]\n",
    "for key in tfidf_values.keys():\n",
    "    tfidf_values[key] = tfidf_values[key]/len(tfidf.keys())\n",
    "#print(tfidf_values[''])\n",
    "'''"
   ]
  },
  {
   "cell_type": "code",
   "execution_count": 167,
   "metadata": {},
   "outputs": [],
   "source": [
    "def loadUniqueWordPickle(): \n",
    "    f1=open('unique_Wordset.pickle','rb')\n",
    "    unique_word=pickle.load(f1)\n",
    "    unique_word=list(unique_word)\n",
    "    f1.close()\n",
    "    return unique_word\n",
    "unique_word = loadUniqueWordPickle()"
   ]
  },
  {
   "cell_type": "code",
   "execution_count": 168,
   "metadata": {},
   "outputs": [],
   "source": [
    "def returnItemsWithMinSupport(vocab):\n",
    "        maxDoc=len(vocab.keys())\n",
    "        Support_Score={}\n",
    "        for key in vocab.keys():\n",
    "            for words in vocab[key]:\n",
    "                if Support_Score.get(words) is None:\n",
    "                    Support_Score[words]=1\n",
    "                else:\n",
    "                    Support_Score[words]+=1\n",
    "        for key in Support_Score.keys():\n",
    "            Support_Score[key]=Support_Score[key]/maxDoc\n",
    "        return Support_Score"
   ]
  },
  {
   "cell_type": "code",
   "execution_count": 169,
   "metadata": {},
   "outputs": [],
   "source": [
    "Support_Score=returnItemsWithMinSupport(vocab)"
   ]
  },
  {
   "cell_type": "code",
   "execution_count": 170,
   "metadata": {},
   "outputs": [],
   "source": [
    "def getData():\n",
    "    words=[]\n",
    "    with open(\"data1.txt\",\"r\") as f:\n",
    "        x  = f.readlines()\n",
    "        for word in x:\n",
    "            words.append(word.replace(\"\\n\",\"\"))\n",
    "            \n",
    "    return words\n"
   ]
  },
  {
   "cell_type": "code",
   "execution_count": 171,
   "metadata": {},
   "outputs": [],
   "source": [
    "def FilterDictionary(A,Support_Score):\n",
    "    filteredDict=[]\n",
    "    SScore={}\n",
    "    for word in A:\n",
    "        if word in unique_word:\n",
    "            filteredDict.append(word)\n",
    "            SScore[word]=Support_Score[word]\n",
    "    return filteredDict,SScore"
   ]
  },
  {
   "cell_type": "code",
   "execution_count": 172,
   "metadata": {},
   "outputs": [],
   "source": [
    "def LemmatizeWord(A):\n",
    "    WN=WordNetLemmatizer()\n",
    "    i=0;\n",
    "    maxLen=len(A)\n",
    "    while i<maxLen:\n",
    "        A[i]=WN.lemmatize(A[i])\n",
    "        i+=1\n",
    "    return A\n",
    "        "
   ]
  },
  {
   "cell_type": "code",
   "execution_count": 173,
   "metadata": {},
   "outputs": [],
   "source": [
    "def ListToDic(vocab):\n",
    "    my_dict={}\n",
    "    for doc in vocab.keys():\n",
    "        my_dict = {k: 0 for k in vocab[doc] }\n",
    "        vocab[doc]=my_dict\n",
    "    \n",
    "    return vocab"
   ]
  },
  {
   "cell_type": "code",
   "execution_count": 174,
   "metadata": {},
   "outputs": [],
   "source": [
    "vocab=ListToDic(vocab)"
   ]
  },
  {
   "cell_type": "code",
   "execution_count": 175,
   "metadata": {},
   "outputs": [],
   "source": [
    "def confidence(A,B):\n",
    "    ScoreMatrix=np.zeros((len(A),len(B)))\n",
    "    print(len(B))\n",
    "    print(len(A))\n",
    "    for index1,word1 in enumerate(A):# A is list of words\n",
    "        for index2,word2 in enumerate(B):\n",
    "            common=0\n",
    "            totA=0\n",
    "            for doc in vocab.keys():\n",
    "                if  vocab[doc].get(word1) is not None :\n",
    "                    totA+=1\n",
    "                    if vocab[doc].get(word2) is not None:\n",
    "                        common+=1\n",
    "                    \n",
    "            if totA==0:\n",
    "                print(word1,word2)\n",
    "            ScoreMatrix[index1][index2]=common/totA\n",
    "    return ScoreMatrix"
   ]
  },
  {
   "cell_type": "code",
   "execution_count": 176,
   "metadata": {},
   "outputs": [
    {
     "name": "stdout",
     "output_type": "stream",
     "text": [
      "1044\n",
      "68\n"
     ]
    }
   ],
   "source": [
    "A=getData()\n",
    "requiredDicti ={}\n",
    "\n",
    "#print(len(A))\n",
    "A,Ascore=FilterDictionary(A,Support_Score)\n",
    "A=LemmatizeWord(A)\n",
    "for key in req_Dic.keys():\n",
    "    if key not in A:\n",
    "        requiredDicti[key]=req_Dic[key]\n",
    "B=[]\n",
    "#print(requiredDicti['software'])\n",
    "for item,value in requiredDicti.items():\n",
    "    B.append(item)\n",
    "#print('software' in B )\n",
    "#print(len(B))\n",
    "#print(B)\n",
    "confidenceMatrix=confidence(A,B)\n",
    "#print(Ascore)"
   ]
  },
  {
   "cell_type": "code",
   "execution_count": null,
   "metadata": {},
   "outputs": [],
   "source": []
  },
  {
   "cell_type": "code",
   "execution_count": null,
   "metadata": {},
   "outputs": [],
   "source": []
  },
  {
   "cell_type": "code",
   "execution_count": null,
   "metadata": {},
   "outputs": [],
   "source": []
  },
  {
   "cell_type": "code",
   "execution_count": null,
   "metadata": {},
   "outputs": [],
   "source": []
  },
  {
   "cell_type": "code",
   "execution_count": null,
   "metadata": {},
   "outputs": [],
   "source": []
  },
  {
   "cell_type": "markdown",
   "metadata": {},
   "source": [
    "my_dict"
   ]
  },
  {
   "cell_type": "code",
   "execution_count": null,
   "metadata": {},
   "outputs": [],
   "source": []
  },
  {
   "cell_type": "code",
   "execution_count": 177,
   "metadata": {},
   "outputs": [],
   "source": [
    "min_support=0.0\n",
    "min_confidence=0.99\n"
   ]
  },
  {
   "cell_type": "code",
   "execution_count": 178,
   "metadata": {},
   "outputs": [],
   "source": [
    "def SelectAssociationRules(confidenceMatrix,min_support,min_confidence):\n",
    "    row,col=confidenceMatrix.shape\n",
    "    print(row,col)\n",
    "    required={}\n",
    "    for i in range(0,row):\n",
    "        for j in range(0,col):\n",
    "            word=A[i]\n",
    "            score=Support_Score[word]\n",
    "            word2=B[j]\n",
    "            if confidenceMatrix[i][j]>=min_confidence and score>min_support:\n",
    "                if required.get(word) ==None and (word!='' and word2!='') :\n",
    "                    required[word]=[word2]\n",
    "                else:\n",
    "                    if (word!='' and word2!=''):\n",
    "                        required[word].append(word2)\n",
    "                #print(word,'-->',word2)\n",
    "                #print(\"\\n\")\n",
    "    return required"
   ]
  },
  {
   "cell_type": "code",
   "execution_count": 179,
   "metadata": {},
   "outputs": [
    {
     "name": "stdout",
     "output_type": "stream",
     "text": [
      "68 1044\n"
     ]
    }
   ],
   "source": [
    "rules=SelectAssociationRules(confidenceMatrix,min_support,min_confidence)"
   ]
  },
  {
   "cell_type": "code",
   "execution_count": 180,
   "metadata": {},
   "outputs": [
    {
     "data": {
      "text/plain": [
       "'def MeanOFMean(confidenceMatrix):\\n    mean1=[]\\n    row,col=confidenceMatrix.shape\\n    for i in range(0,row):\\n            mean1.append(np.median(confidenceMatrix[i]))\\n#             print(mean1)\\n    return np.mean(mean1)\\nMeanOFMean(confidenceMatrix)\\n'"
      ]
     },
     "execution_count": 180,
     "metadata": {},
     "output_type": "execute_result"
    }
   ],
   "source": [
    "'''def MeanOFMean(confidenceMatrix):\n",
    "    mean1=[]\n",
    "    row,col=confidenceMatrix.shape\n",
    "    for i in range(0,row):\n",
    "            mean1.append(np.median(confidenceMatrix[i]))\n",
    "#             print(mean1)\n",
    "    return np.mean(mean1)\n",
    "MeanOFMean(confidenceMatrix)\n",
    "'''"
   ]
  },
  {
   "cell_type": "code",
   "execution_count": null,
   "metadata": {},
   "outputs": [],
   "source": []
  },
  {
   "cell_type": "code",
   "execution_count": 181,
   "metadata": {},
   "outputs": [],
   "source": [
    "def Find(string): \n",
    "    # findall() has been used  \n",
    "    # with valid conditions for urls in string \n",
    "    url = re.findall('http[s]?://(?:[a-zA-Z]|[0-9]|[$-_@.&+] |[!*\\(\\), ]|(?:%[0-9a-fA-F][0-9a-fA-F]))+', string) \n",
    "    return url "
   ]
  },
  {
   "cell_type": "code",
   "execution_count": 182,
   "metadata": {},
   "outputs": [],
   "source": [
    "def printSummary(rule_Dict,outputfile):\n",
    "    list_of_lines_to_print = []\n",
    "    print(rule_Dict.keys())\n",
    "    \n",
    "    #print(rule_Dict['personal_information']['DuckDuckGo does not collect or share personal information'])\n",
    "    \n",
    "    #rule_Dict[key][key2] for key2 in rule_Dict[key]\n",
    "    with open(outputfile,\"w\") as file1:\n",
    "        for key in rule_Dict.keys():\n",
    "            testList=rule_Dict[key]\n",
    "            print([ele[0] for ele in testList])\n",
    "            mean8 = np.mean([ele[0][1] for ele in testList])\n",
    "            print(mean8)\n",
    "            for rows in testList:\n",
    "                #print(rows[0])\n",
    "                if rows[0][1]>=mean8:\n",
    "                    file1.write(rows[0][0]+\"\\n\\n\")\n",
    "               \n",
    "                    #list_of_lines_to_print.append(key2)\n",
    "                    \n",
    "            "
   ]
  },
  {
   "cell_type": "code",
   "execution_count": 183,
   "metadata": {
    "scrolled": false
   },
   "outputs": [
    {
     "name": "stdout",
     "output_type": "stream",
     "text": [
      "['DuckDuckGo.txt', 'Github.txt', 'Microsoft.txt', 'summary', 'Youtube.txt']\n",
      "doing for  DuckDuckGo.txt\n",
      "dict_keys(['personal_information', 'cookie_information', 'cookie_use'])\n",
      "[['DuckDuckGo does not collect or share personal information', 0.023599395076301835], [' We call this sharing of personal information \"search leakage', 0.02006900662399695], [' Search engines could lose data, or get hacked, or accidentally expose data due to security holes or incompetence, all of which has happened with personal information on the Internet', 0.032093380208916035], [' However, search engines are not legally obligated to collect personal information in the first place', 0.022546690018240105], [' And this information (your search history) can be pretty personal', 0.019881161302634804], ['For these reasons, DuckDuckGo takes the approach to not collect any personal information', 0.021628547610480695], [\" However, in our case, we don't expect any because there is nothing useful to give them since we don't collect any personal information\", 0.02389132893424453]]\n",
      "0.023387072824973567\n",
      "[[' your IP address, User agent and often a unique identifier stored in a browser cookie), and if you are logged in, your account information (e', 0.02316891686801293]]\n",
      "0.02316891686801293\n",
      "[['Additionally, if you use our !bang syntax/dropdown, which bangs you use are stored in a cookie so that we can list your most frequently used ones on top of the !bang dropdown box', 0.04831915275944276]]\n",
      "0.04831915275944276\n",
      "doing for  Github.txt\n",
      "dict_keys(['identity_use', 'authentication_content', 'password_use', 'personal_information', 'exploit_use', 'video_make', 'distribute_use', 'nonexclusive_license', 'private_may', 'private_use', 'confidentiality_access', 'intellectual_content', 'personal_use', 'liability_right', 'risk_use', 'suspend_without', 'liability_without', 'liability_use'])\n",
      "[[' A “User Account” represents an individual User’s authorization to log in to and use the Service and serves as a User’s identity on GitHub', 0.024800175483240046]]\n",
      "0.024800175483240046\n",
      "[[\" We offer tools such as twofactor authentication to help you maintain your Account's security, but the content of your Account and its security are up to you\", 0.013745596674760023]]\n",
      "0.013745596674760023\n",
      "[['    You will promptly notify GitHub if you become aware of any unauthorized use of, or access to, our Service through your Account, including any unauthorized use of your password or Account', 0.056494758648389654]]\n",
      "0.056494758648389654\n",
      "[[\"    violate the privacy of any third party, such as by posting another person's personal information without consent\", 0.04584491808177305], [\"You may not scrape GitHub for spamming purposes, including for the purposes of selling GitHub users' personal information, such as to recruiters, headhunters, and job boards\", 0.03797828584583858]]\n",
      "0.04191160196380582\n",
      "[[\"You agree not to reproduce, duplicate, copy, sell, resell or exploit any portion of the Service, use of the Service, or access to the Service without GitHub's express written permission\", 0.04426404208048718]]\n",
      "0.04426404208048718\n",
      "[[' This includes the right to do things like copy it to our database and make backups; show it to you and other users; parse it into a search index or otherwise analyze it on our servers; share it with other users; and perform it, in case Your Content is something like music or video', 0.021400665824897656]]\n",
      "0.021400665824897656\n",
      "[['This license does not grant GitHub the right to sell Your Content or otherwise distribute or use it outside of our provision of the Service', 0.040074541187057965]]\n",
      "0.040074541187057965\n",
      "[[\"If you set your pages and repositories to be viewed publicly, you grant each User of GitHub a nonexclusive, worldwide license to use, display, and perform Your Content through the GitHub Service and to reproduce Your Content solely on GitHub as permitted through GitHub's functionality (for example, through forking)\", 0.029628394362056953]]\n",
      "0.029628394362056953\n",
      "[['Short version: You may have access to private repositories', 0.024527037130622664], ['Some Accounts, such as paid Accounts, may have private repositories, which allow the User to control access to Content', 0.026612648478417628], ['GitHub employees may only access the content of your private repositories in the following situations:', 0.03240125654301874], ['You may choose to enable additional access to your private repositories', 0.02637061127889901], ['    You may enable various GitHub services or features that require additional rights to Your Content in private repositories', 0.022104000218084292], [' These rights may vary depending on the service or feature, but GitHub will continue to treat your private repository Content as confidential', 0.04060263375035998], [' Additionally, we may be compelled by law to disclose the contents of your private repositories', 0.02286420708276404]]\n",
      "0.027926056354595195\n",
      "[[' GitHub will protect the contents of private repositories from unauthorized use, access, or disclosure in the same manner that we would use to protect our own confidential information of a similar nature and in no event with less than a reasonable degree of care', 0.07584942633813378], ['You may grant a Developer Product authorization to use, access, and disclose the contents of your repositories, including your private repositories', 0.050064328753484745]]\n",
      "0.06295687754580927\n",
      "[[\"    When access is required for security reasons, including when access is required to maintain ongoing confidentiality, integrity, availability and resilience of GitHub's systems and Service\", 0.013427515274796794]]\n",
      "0.013427515274796794\n",
      "[['GitHub and our licensors, vendors, agents, and/or our content providers retain ownership of all intellectual property rights of any kind related to the Website and Service', 0.012210369140119113]]\n",
      "0.012210369140119113\n",
      "[[\"You may not use the API to download data or Content from GitHub for spamming purposes, including for the purposes of selling GitHub users' personal information, such as to recruiters, headhunters, and job boards\", 0.06743135999808877]]\n",
      "0.06743135999808877\n",
      "[['GitHub reserves the right at all times to reclaim any GitHub subdomain without liability', 0.015151842209553831]]\n",
      "0.015151842209553831\n",
      "[[' Your use of any thirdparty applications is at your sole risk', 0.026737319582547908], [' You assume full responsibility and risk of loss resulting from your downloading and/or use of files, information, content or other material obtained from the Service', 0.0520003285059296]]\n",
      "0.039368824044238755\n",
      "[['GitHub has the right to suspend or terminate your access to all or any part of the Website at any time, with or without cause, with or without notice, effective immediately', 0.03468396204298647]]\n",
      "0.03468396204298647\n",
      "[['All provisions of this Agreement which by their nature should survive termination will survive termination, including, without limitation, ownership provisions, warranty disclaimers, indemnity, and limitations of liability', 0.011226560033604296]]\n",
      "0.011226560033604296\n",
      "[['You agree to indemnify us, defend us, and hold us harmless from and against any and all claims, liabilities, and expenses, including attorneys’ fees, arising out of your use of the Website and the Service, including but not limited to your violation of this Agreement, provided that GitHub (1) promptly gives you written notice of the claim, demand, suit or proceeding; (2) gives you sole control of the defense and settlement of the claim, demand, suit or proceeding (provided that you may not settle any claim, demand, suit or proceeding unless the settlement unconditionally releases GitHub of all liability); and (3) provides to you all reasonable assistance, at your expense', 0.0676156311950021]]\n",
      "0.0676156311950021\n",
      "doing for  Microsoft.txt\n",
      "dict_keys(['intellectual_use', 'video_use', 'suspend_may', 'domain_access', 'identity_may', 'privacy_use', 'risk_use', 'identity_use', 'personal_use', 'exploit_law', 'private_may', 'authorize_use', 'liability_provide', 'authorize_service', 'liability_may', 'privacy_may', 'distribute_use', 'fraud_make', 'personal_information', 'money_account', 'money_use', 'security_use', 'video_may', 'fraudulent_include', 'personal_may', 'harm_use'])\n",
      "[[' To the extent necessary to provide the Services to you and others, to protect you and the Services, and to improve Microsoft products and services, you grant to Microsoft a worldwide and royaltyfree intellectual property license to use Your Content, for example, to make copies of, retain, transmit, reformat, display, and distribute via communication tools Your Content on the Services', 0.05284090614275522], [' When you provide your Data or Your Content to Bing Places or Bing Manufacturer Center, you grant Microsoft a worldwide, royaltyfree intellectual property license to use, reproduce, save, modify, aggregate, promote, transmit, display or distribute as part of a service, and sublicense those rights to third parties', 0.06968450059143139], [' If you wish to send a notice of intellectual property infringement, including claims of copyright infringement, please use our procedures for submitting Notices of Infringement', 0.03536169755360744]]\n",
      "0.05262903476259801\n",
      "[[' We do not use what you say in email, chat, video calls or voice mail, or your documents, photos or other personal files to target advertising to you', 0.03133256198084373], [' The articles, text, photos, maps, videos, video players and thirdparty material available on Bing and MSN, including through Microsoft bots, applications and programs, are for your noncommercial, personal use only', 0.03391447499552725]]\n",
      "0.03262351848818549\n",
      "[[' If we reasonably suspect that your Microsoft account is being used by a third party fraudulently (for example, as a result of an account compromise), Microsoft may suspend your account until you can reclaim ownership', 0.05176821420455187], [' We may suspend or cancel the Services if we do not receive an on time, full payment from you', 0.030256233214253855]]\n",
      "0.04101222370940286\n",
      "[[' If you do, you agree that the owner of the domain associated with your email address may control and administer your account, and access and process your Data, including the contents of your communications and files, and that Microsoft may notify the owner of the domain if the account or Data is compromised', 0.06830887025421915]]\n",
      "0.06830887025421915\n",
      "[[' If you gave us your email address or phone number in connection with your Microsoft account, then we may send Service notifications to you via email or via SMS (text message), including to verify your identity before registering your mobile phone number', 0.0392670712293375]]\n",
      "0.0392670712293375\n",
      "[[' The ThirdParty Apps and Services may present you with a privacy policy or require you to accept additional terms before you can install or use the ThirdParty App or Service', 0.053272967625471006]]\n",
      "0.053272967625471006\n",
      "[[' You agree to assume all risk and liability arising from your use of these ThirdParty Apps and Services and that Microsoft is not responsible for any issues arising out of your use of them', 0.05929437973476454]]\n",
      "0.05929437973476454\n",
      "[[' You agree not to access or use material or Services which are illegal or not licensed for use in the country from which you access or use such material or Services, or to conceal or misrepresent your location or identity in order to access or use such material or Services', 0.12824825404412574]]\n",
      "0.12824825404412574\n",
      "[[' For certain devices, such software may be preinstalled for your personal, noncommercial use of the Services', 0.050063764418045456], [' Xbox Live, Games for Windows Live and Microsoft Studios games, applications, services and content provided by Microsoft (collectively, the \"Xbox Services\") are only for your personal and noncommercial use', 0.036910704278557735], [' Other than a limited, personal, revocable, nontransferable, nonsublicensable license to use the game currency and virtual goods in the Services only, you have no right or title in or to any such game currency or virtual goods appearing or originating in the Services, or any other attributes associated with use of the Services or stored within the Services', 0.06588948584605178], [' The use of Skype is for your personal and noncommercial use', 0.05253727800043162], [' The features, services, content and ThirdParty Apps and Services provided by Cortana (collectively \"Cortana Services\") are only for your personal and noncommercial use', 0.036910704278557735], ['com and any other Office 365 subscription or Officebranded Services are for your personal, noncommercial use, unless you have commercial use rights under a separate agreement with Microsoft', 0.05826304104347379], [' The Digital Goods are only for your personal, noncommercial entertainment use', 0.02874376720899773], [' The Program is solely for your personal and noncommercial use', 0.028742732594025693], ['For clarification purposes only, this notice does not limit or inhibit the use of the software provided under these Terms for normal business uses that are personal to that business which do not include (i) redistribution of the software to third parties, or (ii) creation of material with the VIDEO STANDARDS compliant technologies for distribution to third parties', 0.05908223663754398], [' If documentation is provided with the application, you may copy and use the documentation for personal reference purposes', 0.04891441691600496]]\n",
      "0.04660581312216905\n",
      "[[' disassemble, decompile, decrypt, hack, emulate, exploit, or reverse engineer any software or other aspect of the Services that is included in or accessible through the Services, except and only to the extent that the applicable copyright law expressly permits doing so;', 0.012581999702877392]]\n",
      "0.012581999702877392\n",
      "[[' Connecting to the Internet via a corporate or other private network that masks your location may cause charges to be different from those displayed for your actual location', 0.02164536794176848]]\n",
      "0.02164536794176848\n",
      "[[' By providing Microsoft with a payment method, you (i) represent that you are authorized to use the payment method you provided and that any payment information you provide is true and accurate; (ii) authorize Microsoft to charge you for the Services or available content using your payment method; and (iii) authorize Microsoft to charge you for any paid feature of the Services you choose to sign up for or use while these Terms are in force', 0.10682711538356932]]\n",
      "0.10682711538356932\n",
      "[[\" If you do not tell us within that time, you release us from all liability and claims of loss resulting from the error and we won't be required to correct the error or provide a refund, unless otherwise required by law\", 0.028083275281244015]]\n",
      "0.028083275281244015\n",
      "[[' By registering or selecting your bank account as your payment method, you authorize Microsoft (or its agent) to initiate one or more debits for the total amount of your purchase or subscription charge (in accordance with the terms of your subscription service) from your bank account (and, if necessary, initiate one or more credits to your bank account to correct errors, issue a refund or similar purpose), and you authorize the financial institution that holds your bank account to deduct such debits or accept such credits', 0.06604317319735231]]\n",
      "0.06604317319735231\n",
      "[[' Laws applicable in your country may also limit your liability for any fraudulent, erroneous or unauthorized transactions from your bank account', 0.03669732277856761]]\n",
      "0.03669732277856761\n",
      "[[' If you choose to link your Microsoft Xbox Services account with your account on a nonMicrosoft service (for example, a nonMicrosoft game publisher of ThirdParty Apps and Services), you agree that: (a) Microsoft may share limited account information (including without limitation gamertag, gamerscore, game score, game history, and friends list), with that nonMicrosoft party as stated in the Microsoft Privacy Statement, and (b) if allowed by your Xbox privacy settings, the nonMicrosoft party may also have access to Your Content from ingame communications when you are signed into your account with that nonMicrosoft party', 0.14825443132254815]]\n",
      "0.14825443132254815\n",
      "[[' As part of building the Xbox Services community, you grant to Microsoft, its affiliates and sublicensees a free and worldwide right, to use, modify, reproduce, distribute, broadcast, share and display Your Content or your name, gamertag, motto, or avatar that you posted for any Xbox Services', 0.03987644377188202], [' Anyone, including Microsoft and users, can see, use, host, reproduce, modify, distribute, publish, publicly and digitally perform and display, translate, adapt, and otherwise exploit Your Content on Mixer, in any form, format, media, or channels now known or later developed', 0.030014995489940906]]\n",
      "0.03494571963091146\n",
      "[[' Please review these policies which are designed to protect against fraud and abuse and may place limits on the type, duration or volume of calls or messages that you are able to make', 0.02676578717026331]]\n",
      "0.02676578717026331\n",
      "[[' You agree to process any personal information of your Linked Account users in accordance with all applicable data protection laws', 0.03810143637947966], [' HealthVault is intended for you to store your personal healthrelated information and information about other people (such as your family) with their consent', 0.03677609460030214]]\n",
      "0.0374387654898909\n",
      "[[' Sending and receiving money on Skype may only be available to users who are 18 years old and over (or otherwise in accordance with the third parties’ terms) and who register and are approved for an account with the third party provider', 0.052295225124928575]]\n",
      "0.052295225124928575\n",
      "[[' To use the send money feature, you may be required to sign up to the third parties’ terms and conditions and to provide permissions to share data with these third parties for the purposes of providing the service', 0.0947090464397433], [' If Skype receives notice that your use of the send money feature violates a third party’s terms and conditions, Skype may have to take action against your account, such as cancelling or suspending your account', 0.07493937273833756]]\n",
      "0.08482420958904044\n",
      "[[' Microsoft does not endorse or control, and is not responsible for, the operation, support, or security of nonMicrosoft credentials you may use', 0.04813801675941441]]\n",
      "0.04813801675941441\n",
      "[[' Through Microsoft Groove, Microsoft Movies & TV, Store and any other related and future services, Microsoft may enable you to obtain, listen to, view, play or read (as the case may be) music, images, video, text, books, games or other material (\"Digital Goods\") that you may get in digital form', 0.06171169491298787]]\n",
      "0.06171169491298787\n",
      "[[' A search is the act of an individual user manually entering text for the good faith purpose of obtaining Bing search results for such user’s own research purposes and does not include any query entered by a bot, macro, or other automated or fraudulent means of any kind (\"Search\")', 0.02943780574342047]]\n",
      "0.02943780574342047\n",
      "[[' Points are not your personal property, and you may not obtain any cash or money in exchange for them', 0.026118431717457563]]\n",
      "0.026118431717457563\n",
      "[[' You may not use any Internetbased service in any way that could harm it or impair anyone else’s use of it or the wireless network', 0.08813276718575026]]\n",
      "0.08813276718575026\n",
      "doing for  Youtube.txt\n",
      "dict_keys(['liability_use', 'security_use', 'video_access', 'intellectual_service', 'personal_use', 'exploit_make', 'objectionable_applicable', 'nonexclusive_license', 'nonexclusive_also', 'video_time', 'distribute_may', 'property_use'])\n",
      "[[' By using the Service, you expressly relieve YouTube from any and all liability arising from your use of any thirdparty website', 0.029016497986020063]]\n",
      "0.029016497986020063\n",
      "[[' You must notify YouTube immediately of any breach of security or unauthorized use of your account', 0.03507366701578652]]\n",
      "0.03507366701578652\n",
      "[['    You agree not to access Content through any technology or means other than the video playback pages of the Service itself, the Embeddable Player, or other explicitly authorized means YouTube may designate', 0.031229680495063892]]\n",
      "0.031229680495063892\n",
      "[['    The Content on the Service, and the trademarks, service marks and logos (\"Marks\") on the Service, are owned by or licensed to YouTube, subject to copyright and other intellectual property rights under the law', 0.030252580709882883]]\n",
      "0.030252580709882883\n",
      "[[' You may access Content for your information and personal use solely as intended through the provided functionality of the Service and as permitted under these Terms of Service', 0.06776400438758264]]\n",
      "0.06776400438758264\n",
      "[[' You shall not copy, reproduce, make available online or electronically transmit, publish, adapt, distribute, transmit, broadcast, display, sell, license, or otherwise exploit any Content for any other purposes without the prior written consent of YouTube or the respective licensors of the Content', 0.031417337704612934]]\n",
      "0.031417337704612934\n",
      "[[' You further understand and acknowledge that you may be exposed to Content that is inaccurate, offensive, indecent, or objectionable, and you agree to waive, and hereby do waive, any legal or equitable rights or remedies you have or may have against YouTube with respect thereto, and, to the extent permitted by applicable law, agree to indemnify and hold harmless YouTube, its owners, operators, affiliates, licensors, and licensees to the fullest extent allowed by law regarding all matters related to your use of the Service', 0.09464446138391322]]\n",
      "0.09464446138391322\n",
      "[[\" However, by submitting Content to YouTube, you hereby grant YouTube a worldwide, nonexclusive, royaltyfree, sublicenseable and transferable license to use, reproduce, distribute, prepare derivative works of, display, publish, adapt, make available online or electronically transmit, and perform the Content in connection with the Service and YouTube's (and its successors' and affiliates') business, including without limitation for promoting and redistributing part or all of the Service (and derivative works thereof) in any media formats and through any media channels\", 0.04902568505345207]]\n",
      "0.04902568505345207\n",
      "[[' You also hereby grant each user of the Service a nonexclusive license to access your Content through the Service, and to use, reproduce, distribute, display, publish, make available online or electronically transmit, and perform such Content as permitted through the functionality of the Service and under these Terms of Service', 0.05564502623666001]]\n",
      "0.05564502623666001\n",
      "[[' The above licenses granted by you in video Content you submit to the Service terminate within a commercially reasonable time after you remove or delete your videos from the Service', 0.011263931580472971]]\n",
      "0.011263931580472971\n",
      "[[' You understand and agree, however, that YouTube may retain, but not display, distribute, or perform, server copies of your videos that have been removed or deleted', 0.02732297436065772]]\n",
      "0.02732297436065772\n",
      "[[\"To the extent permitted by applicable law, you agree to defend, indemnify and hold harmless YouTube, its parent corporation, officers, directors, employees and agents, from and against any and all claims, damages, obligations, losses, liabilities, costs or debt, and expenses (including but not limited to attorney's fees) arising from: (i) your use of and access to the Service; (ii) your violation of any term of these Terms of Service; (iii) your violation of any third party right, including without limitation any copyright, property, or privacy right; or (iv) any claim that your Content caused damage to a third party\", 0.1195840277206584]]\n",
      "0.1195840277206584\n"
     ]
    }
   ],
   "source": [
    "\n",
    "def doSummarization(filename,filepath):\n",
    "    outputfile = filepath+'summary/'+filename[:-4]+'Summary'+'.txt'\n",
    "    \n",
    "    filename = filepath+filename\n",
    "    linesData =[]\n",
    "    rule_Dict={}\n",
    "    with open(filename,encoding=\"utf8\") as file:\n",
    "        data = file.readlines()\n",
    "        #print(data)\n",
    "        \n",
    "        for line2 in data:\n",
    "            linedata=line2.split(\".\")\n",
    "            for line in linedata:\n",
    "                s = Find(line)\n",
    "                #print(\"url:\", s)\n",
    "                if len(s)<=0:\n",
    "                    \n",
    "                    line = line.replace(\"\\n\",\"\")\n",
    "                    line = line.replace(\"-\",\"\")\n",
    "                    line1=line.lower()\n",
    "                    #print(\"line:\",line)\n",
    "                    tokens=nltk.word_tokenize(line1)\n",
    "                    if len(tokens)>1:\n",
    "                        tokens=nltk.word_tokenize(line)\n",
    "                        #print(tokens)\n",
    "                        flag=0\n",
    "                        weight=0\n",
    "                        line_dict=[]\n",
    "                        for token in tokens:\n",
    "                            if rules.get(token)!=None:\n",
    "                                for word2 in rules[token]:\n",
    "                                    if word2 in tokens:\n",
    "                                        flag=1\n",
    "                                        #print(\"Printing this line beacuse of \",token,\"-->\",word2)\n",
    "                                        #print('--> ',line,\".\\n\")\n",
    "                                        linesData.append(line)\n",
    "                                        for token1 in tokens:\n",
    "                                            if tfidf_dict.get(token1) is not None:\n",
    "                                                weight=weight+tfidf_dict[token1]\n",
    "                                        line_dict.append([line,weight])\n",
    "                                        break\n",
    "                            if flag==1:\n",
    "                                break\n",
    "                        \n",
    "                        if flag==1:\n",
    "                                w1=token.lower()\n",
    "                                w2=word2.lower()\n",
    "                                str1=w1+'_'+w2\n",
    "                                if rule_Dict.get(str1) is None:\n",
    "                                    rule_Dict[str1]=[line_dict]\n",
    "                                else:\n",
    "                                    rule_Dict[str1].append(line_dict)\n",
    "    printSummary(rule_Dict,outputfile)\n",
    "\n",
    "test_path = \"Datasets/testdata/\"\n",
    "test_files = os.listdir(test_path)  \n",
    "print(test_files)\n",
    "#doSummarization(\"Datasets/testdata/Github.txt\")\n",
    "for file in test_files:\n",
    "    if os.path.isdir(test_path+file):\n",
    "        pass\n",
    "    else:\n",
    "        print(\"doing for \",file)\n",
    "        doSummarization(file,test_path)"
   ]
  },
  {
   "cell_type": "code",
   "execution_count": 274,
   "metadata": {},
   "outputs": [
    {
     "name": "stdout",
     "output_type": "stream",
     "text": [
      "True\n"
     ]
    }
   ],
   "source": [
    "main():\n",
    "    "
   ]
  },
  {
   "cell_type": "code",
   "execution_count": 239,
   "metadata": {},
   "outputs": [
    {
     "name": "stdout",
     "output_type": "stream",
     "text": [
      "[1, 2]\n"
     ]
    }
   ],
   "source": []
  },
  {
   "cell_type": "code",
   "execution_count": null,
   "metadata": {},
   "outputs": [],
   "source": []
  },
  {
   "cell_type": "code",
   "execution_count": null,
   "metadata": {},
   "outputs": [],
   "source": []
  },
  {
   "cell_type": "code",
   "execution_count": null,
   "metadata": {},
   "outputs": [],
   "source": []
  }
 ],
 "metadata": {
  "kernelspec": {
   "display_name": "Python 3",
   "language": "python",
   "name": "python3"
  },
  "language_info": {
   "codemirror_mode": {
    "name": "ipython",
    "version": 3
   },
   "file_extension": ".py",
   "mimetype": "text/x-python",
   "name": "python",
   "nbconvert_exporter": "python",
   "pygments_lexer": "ipython3",
   "version": "3.6.5"
  }
 },
 "nbformat": 4,
 "nbformat_minor": 2
}
